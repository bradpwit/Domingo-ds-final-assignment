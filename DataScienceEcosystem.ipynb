{
  "metadata": {
    "kernelspec": {
      "name": "xpython",
      "display_name": "Python 3.13 (XPython)",
      "language": "python"
    },
    "language_info": {
      "file_extension": ".py",
      "mimetype": "text/x-python",
      "name": "python",
      "version": "3.13.1"
    }
  },
  "nbformat_minor": 5,
  "nbformat": 4,
  "cells": [
    {
      "id": "788421f0-44d9-4ecb-95e9-c9979204ef4b",
      "cell_type": "markdown",
      "source": "# Data Science Tools and Ecosystem",
      "metadata": {}
    },
    {
      "id": "f3b0a292-57d3-4219-a0ad-00031f4ff53b",
      "cell_type": "markdown",
      "source": "In this notebook, Data Science Tools and Ecosystem are summarized.",
      "metadata": {}
    },
    {
      "id": "ba14c31a-e3d0-4442-9e53-4e49dcb09952",
      "cell_type": "markdown",
      "source": "**Objectives:**\n\n- List popular languages for Data Science  \n- Identify commonly used libraries in Data Science  \n- Create and format tables using Markdown  \n- Write and execute arithmetic expressions using Python  \n- Convert units using simple code logic",
      "metadata": {}
    },
    {
      "id": "ab80541a-7529-4d97-88bb-dcde726ae627",
      "cell_type": "markdown",
      "source": "Some of the popular languages that Data Scientists use are:\n\n1. Python  \n2. R  \n3. SQL  \n4. Julia  \n5. Scala",
      "metadata": {}
    },
    {
      "id": "5878eb0b-fd14-474f-b386-6b5da9fe558f",
      "cell_type": "markdown",
      "source": "Some of the commonly used libraries used by Data Scientists include:\n\n1. NumPy  \n2. Pandas  \n3. Matplotlib  \n4. Scikit-learn  \n5. TensorFlow",
      "metadata": {}
    },
    {
      "id": "35313755-252d-45ea-b717-d17295260ee2",
      "cell_type": "markdown",
      "source": "| Data Science Tools        |\n|---------------------------|\n| Jupyter Notebook          |\n| RStudio                   |\n| VS Code                   |",
      "metadata": {}
    },
    {
      "id": "5fb0c41c-97ca-43a1-8926-97a197a4d752",
      "cell_type": "markdown",
      "source": "### Below are a few examples of evaluating arithmetic expressions in Python.",
      "metadata": {}
    },
    {
      "id": "8b130413-543c-486d-83d8-6bc9b69b4b26",
      "cell_type": "code",
      "source": "# This is a simple arithmetic expression to multiply then add integers\n(3 * 4) + 5\n",
      "metadata": {
        "trusted": true
      },
      "outputs": [
        {
          "execution_count": 2,
          "output_type": "execute_result",
          "data": {
            "text/plain": "17"
          },
          "metadata": {}
        }
      ],
      "execution_count": 2
    },
    {
      "id": "f4d81925-d902-433a-9659-454ae0c8fc8c",
      "cell_type": "code",
      "source": "# This will convert 200 minutes to hours by dividing by 60\n200 / 60",
      "metadata": {
        "trusted": true
      },
      "outputs": [
        {
          "execution_count": 3,
          "output_type": "execute_result",
          "data": {
            "text/plain": "3.3333333333333335"
          },
          "metadata": {}
        }
      ],
      "execution_count": 3
    },
    {
      "id": "48977605-be34-486e-8f2c-98d7031cd76d",
      "cell_type": "markdown",
      "source": "## Author\nDomingo",
      "metadata": {}
    },
    {
      "id": "8fd8b4c0-f602-402b-8b45-d653a7419dbe",
      "cell_type": "code",
      "source": "",
      "metadata": {
        "trusted": true
      },
      "outputs": [],
      "execution_count": null
    }
  ]
}